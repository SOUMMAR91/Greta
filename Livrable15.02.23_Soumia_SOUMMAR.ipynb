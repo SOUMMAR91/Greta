{
 "cells": [
  {
   "cell_type": "markdown",
   "id": "ae5912b2",
   "metadata": {},
   "source": [
    "# Livrable 15/02/2023\n",
    "\n",
    "### Mission 1 [étude de cas]: \n",
    "\n",
    "1) Se renseigner sur ce qu’est un KPI et à quoi dela sert dans le domaine de la data anlyse\n",
    "\n",
    "2) Importez les bonnes librairies et le dataset resto.csv : https://drive.google.com/file/d/1-OO5g9UYuMsTT6hyJPQSIM6g0ygbqDLV/view?usp=share_link\n",
    "\n",
    "3) Analyser les differentes variables (columns) du dataset\n",
    "\n",
    "4) Afficher la dimension du dataset et les statistique descriptives ?\n",
    "\n",
    "5) Affichez toutes les colonnes du dataset sous forme d'objet list python\n",
    "\n",
    "6) Quel est l’item le plus commandé ?\n",
    "\n",
    "7) Combien d’items ont été commandés au total chez Chipotle\n",
    "\n",
    "8) Combien de chiffre d’affaire à realisé la société ?\n",
    "\n",
    "9) Quel est le revenu moyen par commande ? \n",
    "\n",
    "10) Formaliser une petite conclusion sous forme de rapport d'analyse dans un jupyter notebook en ajoutant si vous le voulez des graphiques ou d'autres analyses pertinentes. \n",
    "\n"
   ]
  },
  {
   "cell_type": "markdown",
   "id": "14f86958",
   "metadata": {},
   "source": [
    "### 1) Qu’est un KPI et à quoi dela sert dans le domaine de la data anlyse:\n",
    "\n",
    "KPI=Key Performance Indicator.\n",
    "\n",
    "En français : indicateur clé de performance. \n",
    "\n",
    "Les KPI sont des unités de mesure qui permet d'évaluer la capacité d'un projet.\n",
    "\n",
    "Son but est d'identifier si les réalisations sont efficaces,de sorte que les objectifs précédemment établis soient atteints."
   ]
  },
  {
   "cell_type": "markdown",
   "id": "4016be8a",
   "metadata": {},
   "source": [
    "### 2) Importez les bonnes librairies et le dataset resto.csv : "
   ]
  },
  {
   "cell_type": "code",
   "execution_count": 1,
   "id": "5b03dbb6",
   "metadata": {},
   "outputs": [],
   "source": [
    "#Import les bonnes librairies qu’il nous faut (pandas, seaborn, matplotlib, numpy)\n",
    "import pandas as pd \n",
    "import numpy as np \n",
    "import seaborn as sns\n",
    "import matplotlib.pyplot as plt"
   ]
  },
  {
   "cell_type": "code",
   "execution_count": 2,
   "id": "298dae02",
   "metadata": {},
   "outputs": [
    {
     "name": "stdout",
     "output_type": "stream",
     "text": [
      "dataset loaded\n"
     ]
    }
   ],
   "source": [
    "#import du dataset resto.csv\n",
    "df = pd.read_csv('resto.csv')\n",
    "print('dataset loaded')"
   ]
  },
  {
   "cell_type": "markdown",
   "id": "b981709f",
   "metadata": {},
   "source": [
    "### 3) Analyser les differentes variables (columns) du dataset :"
   ]
  },
  {
   "cell_type": "code",
   "execution_count": 3,
   "id": "23e5f095",
   "metadata": {},
   "outputs": [
    {
     "name": "stdout",
     "output_type": "stream",
     "text": [
      "<class 'pandas.core.frame.DataFrame'>\n",
      "RangeIndex: 4622 entries, 0 to 4621\n",
      "Data columns (total 6 columns):\n",
      " #   Column              Non-Null Count  Dtype \n",
      "---  ------              --------------  ----- \n",
      " 0   Unnamed: 0          4622 non-null   int64 \n",
      " 1   order_id            4622 non-null   int64 \n",
      " 2   quantity            4622 non-null   int64 \n",
      " 3   item_name           4622 non-null   object\n",
      " 4   choice_description  3376 non-null   object\n",
      " 5   item_price          4622 non-null   object\n",
      "dtypes: int64(3), object(3)\n",
      "memory usage: 216.8+ KB\n"
     ]
    }
   ],
   "source": [
    "df.info()"
   ]
  },
  {
   "cell_type": "markdown",
   "id": "d7e830c5",
   "metadata": {},
   "source": [
    "### 4) Afficher la dimension du dataset et les statistique descriptives :"
   ]
  },
  {
   "cell_type": "code",
   "execution_count": 4,
   "id": "8f7f21a2",
   "metadata": {},
   "outputs": [
    {
     "data": {
      "text/plain": [
       "(4622, 6)"
      ]
     },
     "execution_count": 4,
     "metadata": {},
     "output_type": "execute_result"
    }
   ],
   "source": [
    "#La dimension du dataset\n",
    "df.shape "
   ]
  },
  {
   "cell_type": "code",
   "execution_count": 5,
   "id": "49a91fc0",
   "metadata": {},
   "outputs": [
    {
     "data": {
      "text/html": [
       "<div>\n",
       "<style scoped>\n",
       "    .dataframe tbody tr th:only-of-type {\n",
       "        vertical-align: middle;\n",
       "    }\n",
       "\n",
       "    .dataframe tbody tr th {\n",
       "        vertical-align: top;\n",
       "    }\n",
       "\n",
       "    .dataframe thead th {\n",
       "        text-align: right;\n",
       "    }\n",
       "</style>\n",
       "<table border=\"1\" class=\"dataframe\">\n",
       "  <thead>\n",
       "    <tr style=\"text-align: right;\">\n",
       "      <th></th>\n",
       "      <th>Unnamed: 0</th>\n",
       "      <th>order_id</th>\n",
       "      <th>quantity</th>\n",
       "    </tr>\n",
       "  </thead>\n",
       "  <tbody>\n",
       "    <tr>\n",
       "      <th>count</th>\n",
       "      <td>4622.000000</td>\n",
       "      <td>4622.000000</td>\n",
       "      <td>4622.000000</td>\n",
       "    </tr>\n",
       "    <tr>\n",
       "      <th>mean</th>\n",
       "      <td>2310.500000</td>\n",
       "      <td>927.254868</td>\n",
       "      <td>1.075725</td>\n",
       "    </tr>\n",
       "    <tr>\n",
       "      <th>std</th>\n",
       "      <td>1334.400802</td>\n",
       "      <td>528.890796</td>\n",
       "      <td>0.410186</td>\n",
       "    </tr>\n",
       "    <tr>\n",
       "      <th>min</th>\n",
       "      <td>0.000000</td>\n",
       "      <td>1.000000</td>\n",
       "      <td>1.000000</td>\n",
       "    </tr>\n",
       "    <tr>\n",
       "      <th>25%</th>\n",
       "      <td>1155.250000</td>\n",
       "      <td>477.250000</td>\n",
       "      <td>1.000000</td>\n",
       "    </tr>\n",
       "    <tr>\n",
       "      <th>50%</th>\n",
       "      <td>2310.500000</td>\n",
       "      <td>926.000000</td>\n",
       "      <td>1.000000</td>\n",
       "    </tr>\n",
       "    <tr>\n",
       "      <th>75%</th>\n",
       "      <td>3465.750000</td>\n",
       "      <td>1393.000000</td>\n",
       "      <td>1.000000</td>\n",
       "    </tr>\n",
       "    <tr>\n",
       "      <th>max</th>\n",
       "      <td>4621.000000</td>\n",
       "      <td>1834.000000</td>\n",
       "      <td>15.000000</td>\n",
       "    </tr>\n",
       "  </tbody>\n",
       "</table>\n",
       "</div>"
      ],
      "text/plain": [
       "        Unnamed: 0     order_id     quantity\n",
       "count  4622.000000  4622.000000  4622.000000\n",
       "mean   2310.500000   927.254868     1.075725\n",
       "std    1334.400802   528.890796     0.410186\n",
       "min       0.000000     1.000000     1.000000\n",
       "25%    1155.250000   477.250000     1.000000\n",
       "50%    2310.500000   926.000000     1.000000\n",
       "75%    3465.750000  1393.000000     1.000000\n",
       "max    4621.000000  1834.000000    15.000000"
      ]
     },
     "execution_count": 5,
     "metadata": {},
     "output_type": "execute_result"
    }
   ],
   "source": [
    "#Les statistiques descriptives\n",
    "df.describe()"
   ]
  },
  {
   "cell_type": "markdown",
   "id": "7e557b31",
   "metadata": {},
   "source": [
    "### 5) Affichez toutes les colonnes du dataset sous forme d'objet list python"
   ]
  },
  {
   "cell_type": "code",
   "execution_count": 6,
   "id": "6e977286",
   "metadata": {},
   "outputs": [
    {
     "data": {
      "text/plain": [
       "Index(['Unnamed: 0', 'order_id', 'quantity', 'item_name', 'choice_description',\n",
       "       'item_price'],\n",
       "      dtype='object')"
      ]
     },
     "execution_count": 6,
     "metadata": {},
     "output_type": "execute_result"
    }
   ],
   "source": [
    "df.columns"
   ]
  },
  {
   "cell_type": "markdown",
   "id": "878eae0c",
   "metadata": {},
   "source": [
    "### 6) Quel est l’item le plus commandé ?"
   ]
  },
  {
   "cell_type": "code",
   "execution_count": 7,
   "id": "3fc9ddcb",
   "metadata": {},
   "outputs": [],
   "source": [
    "df1=df.loc[:,['quantity', 'item_name']] #: toutes les lignes et seulement les colonnes 'quantity' et 'item_name'. \n",
    "#je voulais afficher la collone quantity et item_name"
   ]
  },
  {
   "cell_type": "code",
   "execution_count": 8,
   "id": "6bd22f9e",
   "metadata": {},
   "outputs": [
    {
     "data": {
      "text/plain": [
       "quantity                    15\n",
       "item_name    Veggie Soft Tacos\n",
       "dtype: object"
      ]
     },
     "execution_count": 8,
     "metadata": {},
     "output_type": "execute_result"
    }
   ],
   "source": [
    "df1.max() #item le plus commandé \n",
    "# ou on peut aussi faire df.max()"
   ]
  },
  {
   "cell_type": "markdown",
   "id": "2e29bb94",
   "metadata": {},
   "source": [
    "### 7) Combien d’items ont été commandés au total chez Chipotle\n",
    " "
   ]
  },
  {
   "cell_type": "code",
   "execution_count": 9,
   "id": "187f5fcf",
   "metadata": {},
   "outputs": [
    {
     "data": {
      "text/plain": [
       "order_id    4622\n",
       "dtype: int64"
      ]
     },
     "execution_count": 9,
     "metadata": {},
     "output_type": "execute_result"
    }
   ],
   "source": [
    "df2=df.loc[:,['order_id']] \n",
    "df2.count()\n",
    "#df.count()"
   ]
  },
  {
   "cell_type": "markdown",
   "id": "36becd7b",
   "metadata": {},
   "source": [
    "### 8) Combien de chiffre d’affaire à realisé la société ?"
   ]
  },
  {
   "cell_type": "code",
   "execution_count": 10,
   "id": "c566740e",
   "metadata": {},
   "outputs": [
    {
     "data": {
      "text/plain": [
       "0               $2.39 \n",
       "1               $3.39 \n",
       "2               $3.39 \n",
       "3               $2.39 \n",
       "4       $16.98 $16.98 \n",
       "             ...      \n",
       "4617           $11.75 \n",
       "4618           $11.75 \n",
       "4619           $11.25 \n",
       "4620            $8.75 \n",
       "4621            $8.75 \n",
       "Length: 4622, dtype: object"
      ]
     },
     "execution_count": 10,
     "metadata": {},
     "output_type": "execute_result"
    }
   ],
   "source": [
    "pv=df['item_price']  #prix de vente\n",
    "qv=df['quantity'] #quantité vendues\n",
    "ca=pv*qv  #chiffre d'affaire \n",
    "ca"
   ]
  },
  {
   "cell_type": "markdown",
   "id": "729389a2",
   "metadata": {},
   "source": [
    "### 8) Combien de chiffre d’affaire à realisé la société ?"
   ]
  },
  {
   "cell_type": "code",
   "execution_count": 11,
   "id": "89ba3929",
   "metadata": {},
   "outputs": [
    {
     "data": {
      "text/plain": [
       "4622"
      ]
     },
     "execution_count": 11,
     "metadata": {},
     "output_type": "execute_result"
    }
   ],
   "source": [
    "ca.count()\n"
   ]
  },
  {
   "cell_type": "markdown",
   "id": "ad9ec3d2",
   "metadata": {},
   "source": [
    "### 9) Quel est le revenu moyen par commande ?"
   ]
  },
  {
   "cell_type": "code",
   "execution_count": 16,
   "id": "f9ac8ae1",
   "metadata": {},
   "outputs": [
    {
     "data": {
      "text/plain": [
       "Index(['Unnamed: 0', 'order_id', 'quantity', 'item_name', 'choice_description',\n",
       "       'item_price'],\n",
       "      dtype='object')"
      ]
     },
     "execution_count": 16,
     "metadata": {},
     "output_type": "execute_result"
    }
   ],
   "source": [
    "r=ca.count() #revenu\n",
    "nbc=df2.count() #nombre de commandes\n",
    "rm=ca/nbc  #revenu moyen par commande \n",
    "rm\n"
   ]
  },
  {
   "cell_type": "code",
   "execution_count": null,
   "id": "88ffbed3",
   "metadata": {},
   "outputs": [],
   "source": []
  },
  {
   "cell_type": "code",
   "execution_count": null,
   "id": "78326539",
   "metadata": {},
   "outputs": [],
   "source": []
  },
  {
   "cell_type": "code",
   "execution_count": null,
   "id": "2c01a837",
   "metadata": {},
   "outputs": [],
   "source": []
  }
 ],
 "metadata": {
  "kernelspec": {
   "display_name": "Python 3 (ipykernel)",
   "language": "python",
   "name": "python3"
  },
  "language_info": {
   "codemirror_mode": {
    "name": "ipython",
    "version": 3
   },
   "file_extension": ".py",
   "mimetype": "text/x-python",
   "name": "python",
   "nbconvert_exporter": "python",
   "pygments_lexer": "ipython3",
   "version": "3.9.13"
  }
 },
 "nbformat": 4,
 "nbformat_minor": 5
}
